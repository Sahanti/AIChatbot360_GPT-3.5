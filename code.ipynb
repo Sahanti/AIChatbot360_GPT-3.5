{
  "cells": [
    {
      "cell_type": "markdown",
      "metadata": {
        "id": "kbVLAO2SNzy3"
      },
      "source": [
        "# The Chat Format\n",
        "\n",
        "In this notebook, you will explore how you can utilize the chat format to have extended conversations with chatbots personalized or specialized for specific tasks or behaviors.\n",
        "\n",
        "[website](https://learn.deeplearning.ai/chatgpt-prompt-eng/lesson/8/chatbot)"
      ]
    },
    {
      "cell_type": "markdown",
      "metadata": {
        "id": "_rvm7DplNzy5"
      },
      "source": [
        "## Setup"
      ]
    },
    {
      "cell_type": "code",
      "source": [
        "pip install openai==0.28"
      ],
      "metadata": {
        "colab": {
          "base_uri": "https://localhost:8080/"
        },
        "id": "qQVbW_y5N-jA",
        "outputId": "a304a5a3-645b-4a49-ccb7-cb768e713dfe"
      },
      "execution_count": null,
      "outputs": [
        {
          "output_type": "stream",
          "name": "stdout",
          "text": [
            "Collecting openai==0.28\n",
            "  Downloading openai-0.28.0-py3-none-any.whl (76 kB)\n",
            "\u001b[?25l     \u001b[90m━━━━━━━━━━━━━━━━━━━━━━━━━━━━━━━━━━━━━━━━\u001b[0m \u001b[32m0.0/76.5 kB\u001b[0m \u001b[31m?\u001b[0m eta \u001b[36m-:--:--\u001b[0m\r\u001b[2K     \u001b[91m━━━━━━━━━━━━━━━━━━━━━━━━━━━━━━━━━━━━━\u001b[0m\u001b[90m╺\u001b[0m\u001b[90m━━\u001b[0m \u001b[32m71.7/76.5 kB\u001b[0m \u001b[31m2.2 MB/s\u001b[0m eta \u001b[36m0:00:01\u001b[0m\r\u001b[2K     \u001b[90m━━━━━━━━━━━━━━━━━━━━━━━━━━━━━━━━━━━━━━━━\u001b[0m \u001b[32m76.5/76.5 kB\u001b[0m \u001b[31m1.7 MB/s\u001b[0m eta \u001b[36m0:00:00\u001b[0m\n",
            "\u001b[?25hRequirement already satisfied: requests>=2.20 in /usr/local/lib/python3.10/dist-packages (from openai==0.28) (2.31.0)\n",
            "Requirement already satisfied: tqdm in /usr/local/lib/python3.10/dist-packages (from openai==0.28) (4.66.1)\n",
            "Requirement already satisfied: aiohttp in /usr/local/lib/python3.10/dist-packages (from openai==0.28) (3.8.6)\n",
            "Requirement already satisfied: charset-normalizer<4,>=2 in /usr/local/lib/python3.10/dist-packages (from requests>=2.20->openai==0.28) (3.3.2)\n",
            "Requirement already satisfied: idna<4,>=2.5 in /usr/local/lib/python3.10/dist-packages (from requests>=2.20->openai==0.28) (3.4)\n",
            "Requirement already satisfied: urllib3<3,>=1.21.1 in /usr/local/lib/python3.10/dist-packages (from requests>=2.20->openai==0.28) (2.0.7)\n",
            "Requirement already satisfied: certifi>=2017.4.17 in /usr/local/lib/python3.10/dist-packages (from requests>=2.20->openai==0.28) (2023.7.22)\n",
            "Requirement already satisfied: attrs>=17.3.0 in /usr/local/lib/python3.10/dist-packages (from aiohttp->openai==0.28) (23.1.0)\n",
            "Requirement already satisfied: multidict<7.0,>=4.5 in /usr/local/lib/python3.10/dist-packages (from aiohttp->openai==0.28) (6.0.4)\n",
            "Requirement already satisfied: async-timeout<5.0,>=4.0.0a3 in /usr/local/lib/python3.10/dist-packages (from aiohttp->openai==0.28) (4.0.3)\n",
            "Requirement already satisfied: yarl<2.0,>=1.0 in /usr/local/lib/python3.10/dist-packages (from aiohttp->openai==0.28) (1.9.2)\n",
            "Requirement already satisfied: frozenlist>=1.1.1 in /usr/local/lib/python3.10/dist-packages (from aiohttp->openai==0.28) (1.4.0)\n",
            "Requirement already satisfied: aiosignal>=1.1.2 in /usr/local/lib/python3.10/dist-packages (from aiohttp->openai==0.28) (1.3.1)\n",
            "Installing collected packages: openai\n",
            "\u001b[31mERROR: pip's dependency resolver does not currently take into account all the packages that are installed. This behaviour is the source of the following dependency conflicts.\n",
            "llmx 0.0.15a0 requires cohere, which is not installed.\n",
            "llmx 0.0.15a0 requires tiktoken, which is not installed.\u001b[0m\u001b[31m\n",
            "\u001b[0mSuccessfully installed openai-0.28.0\n"
          ]
        }
      ]
    },
    {
      "cell_type": "code",
      "source": [
        "pip install python-dotenv\n"
      ],
      "metadata": {
        "colab": {
          "base_uri": "https://localhost:8080/"
        },
        "id": "hu-VwM9cOPYk",
        "outputId": "bd771282-2b3d-45fa-e0e4-7cbb7c018566"
      },
      "execution_count": null,
      "outputs": [
        {
          "output_type": "stream",
          "name": "stdout",
          "text": [
            "Collecting python-dotenv\n",
            "  Downloading python_dotenv-1.0.0-py3-none-any.whl (19 kB)\n",
            "Installing collected packages: python-dotenv\n",
            "Successfully installed python-dotenv-1.0.0\n"
          ]
        }
      ]
    },
    {
      "cell_type": "code",
      "execution_count": null,
      "metadata": {
        "id": "u6nrpbmNNzy5"
      },
      "outputs": [],
      "source": [
        "import os\n",
        "import openai\n",
        "from dotenv import load_dotenv, find_dotenv\n",
        "_ = load_dotenv(find_dotenv()) # read local .env file\n",
        "\n",
        "api_key = ('Enter_your_API_key')\n",
        "print(f\"Retrieved API Key: {api_key}\")\n",
        "\n",
        "# Set the API key for OpenAI\n",
        "openai.api_key = api_key\n"
      ]
    },
    {
      "cell_type": "code",
      "execution_count": null,
      "metadata": {
        "id": "xg1Y-KSONzy6"
      },
      "outputs": [],
      "source": [
        "def get_completion(prompt, model=\"gpt-3.5-turbo\"):\n",
        "    messages = [{\"role\": \"user\", \"content\": prompt}]\n",
        "    response = openai.ChatCompletion.create(\n",
        "        model=model,\n",
        "        messages=messages,\n",
        "        temperature=0, # this is the degree of randomness of the model's output\n",
        "    )\n",
        "    return response.choices[0].message[\"content\"]\n",
        "\n",
        "def get_completion_from_messages(messages, model=\"gpt-3.5-turbo\", temperature=0):\n",
        "    response = openai.ChatCompletion.create(\n",
        "        model=model,\n",
        "        messages=messages,\n",
        "        temperature=temperature, # this is the degree of randomness of the model's output\n",
        "    )\n",
        "#     print(str(response.choices[0].message))\n",
        "    return response.choices[0].message[\"content\"]"
      ]
    },
    {
      "cell_type": "code",
      "execution_count": null,
      "metadata": {
        "id": "UwPaP5vyNzy6"
      },
      "outputs": [],
      "source": [
        "messages =  [\n",
        "{'role':'system', 'content':'You are an assistant that speaks like Shakespeare.'},\n",
        "{'role':'user', 'content':'tell me a joke'},\n",
        "{'role':'assistant', 'content':'Why did the chicken cross the road'},\n",
        "{'role':'user', 'content':'I don\\'t know'}  ]"
      ]
    },
    {
      "cell_type": "code",
      "execution_count": null,
      "metadata": {
        "colab": {
          "base_uri": "https://localhost:8080/"
        },
        "id": "qk_bM4bgNzy7",
        "outputId": "4993f5b4-5ad7-4a39-e741-891e5335c0e2"
      },
      "outputs": [
        {
          "output_type": "stream",
          "name": "stdout",
          "text": [
            "To greet the fair maiden on the other side, forsooth! Mayhaps she had a feathered heart and flock to charm her.\n"
          ]
        }
      ],
      "source": [
        "response = get_completion_from_messages(messages, temperature=1)\n",
        "print(response)"
      ]
    },
    {
      "cell_type": "code",
      "execution_count": null,
      "metadata": {
        "colab": {
          "base_uri": "https://localhost:8080/"
        },
        "id": "eQv1vuiJNzy7",
        "outputId": "bc9112ff-5942-4b66-dd87-dde97db78cc1"
      },
      "outputs": [
        {
          "output_type": "stream",
          "name": "stdout",
          "text": [
            "Hi Isa! It's great to meet you. How can I assist you today?\n"
          ]
        }
      ],
      "source": [
        "messages =  [\n",
        "{'role':'system', 'content':'You are friendly chatbot.'},\n",
        "{'role':'user', 'content':'Hi, my name is Isa'}  ]\n",
        "response = get_completion_from_messages(messages, temperature=1)\n",
        "print(response)"
      ]
    },
    {
      "cell_type": "markdown",
      "source": [
        "## a. Ask the bot to solve one complex math problem."
      ],
      "metadata": {
        "id": "ktMbE5xtkqH7"
      }
    },
    {
      "cell_type": "code",
      "source": [
        "def chat_sequence(messages):\n",
        "    response = get_completion_from_messages(messages, temperature=1)\n",
        "    print(response)\n"
      ],
      "metadata": {
        "id": "ipmKRV-Qf_Hb"
      },
      "execution_count": null,
      "outputs": []
    },
    {
      "cell_type": "code",
      "source": [
        "def chat_sequence(messages):\n",
        "    conversation = []\n",
        "    response = get_completion_from_messages(messages, temperature=1)\n",
        "    conversation.extend(messages)\n",
        "    conversation.append({'role': 'assistant', 'content': response})\n",
        "    print(response)\n",
        "    return conversation\n",
        "\n",
        "math_problem = [\n",
        "    {'role': 'user', 'content': 'Can you help me with a math problem?'},\n",
        "    {'role': 'assistant', 'content': 'Sure, what math problem do you need help with?'},\n",
        "    {'role': 'user', 'content': 'I have an equation: 2x + 5 = 15. Solve for x.'}\n",
        "]\n",
        "\n",
        "conversation_1 = chat_sequence(math_problem)"
      ],
      "metadata": {
        "colab": {
          "base_uri": "https://localhost:8080/"
        },
        "id": "BHCJfJk4hPLl",
        "outputId": "536adfff-1e3e-48cf-b4b3-cbba63c90c7b"
      },
      "execution_count": null,
      "outputs": [
        {
          "output_type": "stream",
          "name": "stdout",
          "text": [
            "To solve for x in the equation 2x + 5 = 15, we can follow these steps:\n",
            "\n",
            "1. Begin by isolating the term with x on one side of the equation. To do this, subtract 5 from both sides:\n",
            "   2x + 5 - 5 = 15 - 5\n",
            "   This simplifies to:\n",
            "   2x = 10\n",
            "\n",
            "2. Now, to solve for x, divide both sides by 2:\n",
            "   2x/2 = 10/2\n",
            "   This simplifies to:\n",
            "   x = 5\n",
            "\n",
            "So the solution to the equation 2x + 5 = 15 is x = 5.\n"
          ]
        }
      ]
    },
    {
      "cell_type": "markdown",
      "source": [
        "## b. Give a PDF and website document; ask the bot to rewrite and answer questions on the given PDF and website."
      ],
      "metadata": {
        "id": "tZxvp4ASklak"
      }
    },
    {
      "cell_type": "code",
      "source": [
        "documents_query = [\n",
        "    {'role': 'user', 'content': 'I have a PDF and a website document. Can you help me understand and summarize them?'},\n",
        "    {'role': 'assistant', 'content': 'Of course, please provide the documents.'},\n",
        "    {'role': 'user', 'content': 'https://pinchofyum.com/'},\n",
        "    {'role': 'user', 'content': 'Can you write a paragrapgh from the website'},\n",
        "    {'role': 'user', 'content': 'https://files.hawaii.gov/dbedt/economic/library/facts/Facts_Figures_browsable.pdf'},\n",
        "    {'role': 'user', 'content': 'Can you tell me what is mentioned in the pdf?'}\n",
        "]\n",
        "\n",
        "conversation_2 = chat_sequence(documents_query)\n"
      ],
      "metadata": {
        "colab": {
          "base_uri": "https://localhost:8080/"
        },
        "id": "ONm6MjWnkICO",
        "outputId": "da0bd1fb-b6df-4151-e698-9090a7e1f950"
      },
      "execution_count": null,
      "outputs": [
        {
          "output_type": "stream",
          "name": "stdout",
          "text": [
            "Summary of the website document (https://pinchofyum.com/):\n",
            "\n",
            "The author had a night where they didn't feel like cooking and quickly put together a recipe that was easy and flavorful. They found it to be filling, comforting, and also fairly healthy. The author plans to keep this recipe for future occasions when they don't want to put in much effort in the kitchen.\n",
            "\n",
            "Summary of the PDF document (https://files.hawaii.gov/dbedt/economic/library/facts/Facts_Figures_browsable.pdf):\n",
            "\n",
            "The document provides information about the two levels of government in Hawaii, which are the state and county governments. In Hawaii, counties are responsible for various services typically handled by cities and towns, including fire protection, police services, waste collection, and maintenance of public works. The State administers the single school district in Hawaii.\n"
          ]
        }
      ]
    },
    {
      "cell_type": "markdown",
      "source": [
        "## c. At the end, ask the bot to summarize your chat."
      ],
      "metadata": {
        "id": "h0s3Z6Y8iLtR"
      }
    },
    {
      "cell_type": "code",
      "source": [
        "# Function to summarize the chat\n",
        "def summarize_chat(conversation):\n",
        "    user_messages = [msg['content'] for msg in conversation if msg['role'] == 'user']\n",
        "    assistant_messages = [msg['content'] for msg in conversation if msg['role'] == 'assistant']\n",
        "\n",
        "    print(\"\\nUser's Messages:\")\n",
        "    print('\\n'.join(user_messages))\n",
        "\n",
        "    print(\"\\nAssistant's Responses:\")\n",
        "    print('\\n'.join(assistant_messages))\n",
        "\n",
        "    print(\"\\nFull Chat Summary:\")\n",
        "    for msg in conversation:\n",
        "        print(f\"{msg['role'].capitalize()}: {msg['content']}\")\n",
        "\n",
        "# Summarize both conversations\n",
        "summarize_chat(conversation_1)\n",
        "summarize_chat(conversation_2)"
      ],
      "metadata": {
        "colab": {
          "base_uri": "https://localhost:8080/"
        },
        "id": "1beR80vEh7ok",
        "outputId": "7ca7d18f-4569-40dc-a6d2-6104c7dcd5be"
      },
      "execution_count": null,
      "outputs": [
        {
          "output_type": "stream",
          "name": "stdout",
          "text": [
            "\n",
            "User's Messages:\n",
            "Can you help me with a math problem?\n",
            "I have an equation: 2x + 5 = 15. Solve for x.\n",
            "\n",
            "Assistant's Responses:\n",
            "Sure, what math problem do you need help with?\n",
            "To solve for x in the equation 2x + 5 = 15, we can follow these steps:\n",
            "\n",
            "1. Begin by isolating the term with x on one side of the equation. To do this, subtract 5 from both sides:\n",
            "   2x + 5 - 5 = 15 - 5\n",
            "   This simplifies to:\n",
            "   2x = 10\n",
            "\n",
            "2. Now, to solve for x, divide both sides by 2:\n",
            "   2x/2 = 10/2\n",
            "   This simplifies to:\n",
            "   x = 5\n",
            "\n",
            "So the solution to the equation 2x + 5 = 15 is x = 5.\n",
            "\n",
            "Full Chat Summary:\n",
            "User: Can you help me with a math problem?\n",
            "Assistant: Sure, what math problem do you need help with?\n",
            "User: I have an equation: 2x + 5 = 15. Solve for x.\n",
            "Assistant: To solve for x in the equation 2x + 5 = 15, we can follow these steps:\n",
            "\n",
            "1. Begin by isolating the term with x on one side of the equation. To do this, subtract 5 from both sides:\n",
            "   2x + 5 - 5 = 15 - 5\n",
            "   This simplifies to:\n",
            "   2x = 10\n",
            "\n",
            "2. Now, to solve for x, divide both sides by 2:\n",
            "   2x/2 = 10/2\n",
            "   This simplifies to:\n",
            "   x = 5\n",
            "\n",
            "So the solution to the equation 2x + 5 = 15 is x = 5.\n",
            "\n",
            "User's Messages:\n",
            "I have a PDF and a website document. Can you help me understand and summarize them?\n",
            "https://pinchofyum.com/\n",
            "I had one of those nights last night where I wasn’t in the mood to cook. I threw this recipe together SO fast. It had so much flavor and couldn’t have been easier. I’m definitely keeping this in my back pocket for those nights. It was filling and comforting and pretty healthy\n",
            "https://files.hawaii.gov/dbedt/economic/library/facts/Facts_Figures_browsable.pdf\n",
            "HAWAII GOVERNMEN. The two levels of government in Hawaii are state and county. Counties perform most services usually assigned tocities and towns (fire protection, police, refuse collection, construction andmaintenance of streets and other public works). There is only one school district, which is administered by the State.\n",
            "\n",
            "Assistant's Responses:\n",
            "Of course, please provide the documents.\n",
            "Summary of the website document (https://pinchofyum.com/):\n",
            "\n",
            "The author had a night where they didn't feel like cooking and quickly put together a recipe that was easy and flavorful. They found it to be filling, comforting, and also fairly healthy. The author plans to keep this recipe for future occasions when they don't want to put in much effort in the kitchen.\n",
            "\n",
            "Summary of the PDF document (https://files.hawaii.gov/dbedt/economic/library/facts/Facts_Figures_browsable.pdf):\n",
            "\n",
            "The document provides information about the two levels of government in Hawaii, which are the state and county governments. In Hawaii, counties are responsible for various services typically handled by cities and towns, including fire protection, police services, waste collection, and maintenance of public works. The State administers the single school district in Hawaii.\n",
            "\n",
            "Full Chat Summary:\n",
            "User: I have a PDF and a website document. Can you help me understand and summarize them?\n",
            "Assistant: Of course, please provide the documents.\n",
            "User: https://pinchofyum.com/\n",
            "User: I had one of those nights last night where I wasn’t in the mood to cook. I threw this recipe together SO fast. It had so much flavor and couldn’t have been easier. I’m definitely keeping this in my back pocket for those nights. It was filling and comforting and pretty healthy\n",
            "User: https://files.hawaii.gov/dbedt/economic/library/facts/Facts_Figures_browsable.pdf\n",
            "User: HAWAII GOVERNMEN. The two levels of government in Hawaii are state and county. Counties perform most services usually assigned tocities and towns (fire protection, police, refuse collection, construction andmaintenance of streets and other public works). There is only one school district, which is administered by the State.\n",
            "Assistant: Summary of the website document (https://pinchofyum.com/):\n",
            "\n",
            "The author had a night where they didn't feel like cooking and quickly put together a recipe that was easy and flavorful. They found it to be filling, comforting, and also fairly healthy. The author plans to keep this recipe for future occasions when they don't want to put in much effort in the kitchen.\n",
            "\n",
            "Summary of the PDF document (https://files.hawaii.gov/dbedt/economic/library/facts/Facts_Figures_browsable.pdf):\n",
            "\n",
            "The document provides information about the two levels of government in Hawaii, which are the state and county governments. In Hawaii, counties are responsible for various services typically handled by cities and towns, including fire protection, police services, waste collection, and maintenance of public works. The State administers the single school district in Hawaii.\n"
          ]
        }
      ]
    },
    {
      "cell_type": "code",
      "source": [],
      "metadata": {
        "id": "sNShq1Pjkb7t"
      },
      "execution_count": null,
      "outputs": []
    }
  ],
  "metadata": {
    "kernelspec": {
      "display_name": "Python 3 (ipykernel)",
      "language": "python",
      "name": "python3"
    },
    "language_info": {
      "codemirror_mode": {
        "name": "ipython",
        "version": 3
      },
      "file_extension": ".py",
      "mimetype": "text/x-python",
      "name": "python",
      "nbconvert_exporter": "python",
      "pygments_lexer": "ipython3",
      "version": "3.9.12"
    },
    "colab": {
      "provenance": []
    }
  },
  "nbformat": 4,
  "nbformat_minor": 0
}